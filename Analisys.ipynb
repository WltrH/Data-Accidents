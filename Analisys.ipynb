{
 "cells": [
  {
   "cell_type": "code",
   "execution_count": 2,
   "metadata": {},
   "outputs": [],
   "source": [
    "import pandas as pd\n",
    "import numpy as np\n",
    "import matplotlib as plt"
   ]
  },
  {
   "cell_type": "code",
   "execution_count": 10,
   "metadata": {},
   "outputs": [
    {
     "name": "stderr",
     "output_type": "stream",
     "text": [
      "/var/folders/z3/l2fngtm57qb349dkh5432_xw0000gn/T/ipykernel_65424/1077967570.py:1: DtypeWarning: Columns (9,16) have mixed types. Specify dtype option on import or set low_memory=False.\n",
      "  data = pd.read_csv('Crash_Reporting_-_Incidents_Data.csv')\n"
     ]
    }
   ],
   "source": [
    "data = pd.read_csv('Crash_Reporting_-_Incidents_Data.csv')\n",
    "\n"
   ]
  },
  {
   "cell_type": "code",
   "execution_count": 17,
   "metadata": {},
   "outputs": [
    {
     "data": {
      "text/plain": [
       "(101276, 37)"
      ]
     },
     "execution_count": 17,
     "metadata": {},
     "output_type": "execute_result"
    }
   ],
   "source": [
    "data.head\n",
    "data.shape\n",
    "data.columns"
   ]
  },
  {
   "cell_type": "code",
   "execution_count": 14,
   "metadata": {},
   "outputs": [],
   "source": [
    "colonnes = ['Crash Date/Time', 'Hit/Run', 'Route Type', 'Lane Direction',\n",
    "    'Lane Type', 'Number of Lanes', 'Weather', 'Surface Condition', 'Light',\n",
    "    'Traffic Control', 'Driver Substance Abuse',\n",
    "    'Non-Motorist Substance Abuse', 'Collision Type', 'Related Non-Motorist',\n",
    "    'At Fault', 'First Harmful Event', 'Second Harmful Event', 'Latitude',\n",
    "    'Longitude', 'Location']\n",
    "df = data[colonnes]"
   ]
  },
  {
   "cell_type": "code",
   "execution_count": 18,
   "metadata": {},
   "outputs": [
    {
     "data": {
      "text/plain": [
       "Index(['Crash Date/Time', 'Hit/Run', 'Route Type', 'Lane Direction',\n",
       "       'Lane Type', 'Number of Lanes', 'Weather', 'Surface Condition', 'Light',\n",
       "       'Traffic Control', 'Driver Substance Abuse',\n",
       "       'Non-Motorist Substance Abuse', 'Collision Type',\n",
       "       'Related Non-Motorist', 'At Fault', 'First Harmful Event',\n",
       "       'Second Harmful Event', 'Latitude', 'Longitude', 'Location'],\n",
       "      dtype='object')"
      ]
     },
     "execution_count": 18,
     "metadata": {},
     "output_type": "execute_result"
    }
   ],
   "source": [
    "df.shape\n",
    "df.columns"
   ]
  }
 ],
 "metadata": {
  "kernelspec": {
   "display_name": "Python 3 (ipykernel)",
   "language": "python",
   "name": "python3"
  },
  "language_info": {
   "codemirror_mode": {
    "name": "ipython",
    "version": 3
   },
   "file_extension": ".py",
   "mimetype": "text/x-python",
   "name": "python",
   "nbconvert_exporter": "python",
   "pygments_lexer": "ipython3",
   "version": "3.11.5"
  }
 },
 "nbformat": 4,
 "nbformat_minor": 4
}
