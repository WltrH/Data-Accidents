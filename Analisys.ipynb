{
 "cells": [
  {
   "cell_type": "code",
   "execution_count": 1,
   "metadata": {},
   "outputs": [],
   "source": [
    "import pandas as pd\n",
    "import numpy as np\n",
    "import matplotlib as plt"
   ]
  },
  {
   "cell_type": "code",
   "execution_count": 2,
   "metadata": {},
   "outputs": [
    {
     "name": "stderr",
     "output_type": "stream",
     "text": [
      "/var/folders/z3/l2fngtm57qb349dkh5432_xw0000gn/T/ipykernel_80132/1077967570.py:1: DtypeWarning: Columns (9,16) have mixed types. Specify dtype option on import or set low_memory=False.\n",
      "  data = pd.read_csv('Crash_Reporting_-_Incidents_Data.csv')\n"
     ]
    }
   ],
   "source": [
    "data = pd.read_csv('Crash_Reporting_-_Incidents_Data.csv')\n",
    "\n"
   ]
  },
  {
   "cell_type": "code",
   "execution_count": 3,
   "metadata": {},
   "outputs": [
    {
     "data": {
      "text/plain": [
       "Index(['Report Number', 'Local Case Number', 'Agency Name', 'ACRS Report Type',\n",
       "       'Crash Date/Time', 'Hit/Run', 'Route Type', 'Lane Direction',\n",
       "       'Lane Type', 'Number of Lanes', 'Direction', 'Distance',\n",
       "       'Distance Unit', 'Road Grade', 'Road Name', 'Cross-Street Name',\n",
       "       'Off-Road Description', 'Municipality', 'Related Non-Motorist',\n",
       "       'At Fault', 'Collision Type', 'Weather', 'Surface Condition', 'Light',\n",
       "       'Traffic Control', 'Driver Substance Abuse',\n",
       "       'Non-Motorist Substance Abuse', 'First Harmful Event',\n",
       "       'Second Harmful Event', 'Junction', 'Intersection Type',\n",
       "       'Road Alignment', 'Road Condition', 'Road Division', 'Latitude',\n",
       "       'Longitude', 'Location'],\n",
       "      dtype='object')"
      ]
     },
     "execution_count": 3,
     "metadata": {},
     "output_type": "execute_result"
    }
   ],
   "source": [
    "data.head\n",
    "data.shape\n",
    "data.columns"
   ]
  },
  {
   "cell_type": "code",
   "execution_count": 4,
   "metadata": {},
   "outputs": [],
   "source": [
    "colonnes = ['Crash Date/Time', 'Hit/Run', 'Route Type', 'Lane Direction',\n",
    "    'Lane Type', 'Number of Lanes', 'Weather', 'Surface Condition', 'Light',\n",
    "    'Traffic Control', 'Driver Substance Abuse',\n",
    "    'Non-Motorist Substance Abuse', 'Collision Type', 'Related Non-Motorist',\n",
    "    'At Fault', 'First Harmful Event', 'Second Harmful Event', 'Latitude',\n",
    "    'Longitude', 'Location']\n",
    "df = data[colonnes]"
   ]
  },
  {
   "cell_type": "code",
   "execution_count": 5,
   "metadata": {},
   "outputs": [
    {
     "data": {
      "text/plain": [
       "Index(['Crash Date/Time', 'Hit/Run', 'Route Type', 'Lane Direction',\n",
       "       'Lane Type', 'Number of Lanes', 'Weather', 'Surface Condition', 'Light',\n",
       "       'Traffic Control', 'Driver Substance Abuse',\n",
       "       'Non-Motorist Substance Abuse', 'Collision Type',\n",
       "       'Related Non-Motorist', 'At Fault', 'First Harmful Event',\n",
       "       'Second Harmful Event', 'Latitude', 'Longitude', 'Location'],\n",
       "      dtype='object')"
      ]
     },
     "execution_count": 5,
     "metadata": {},
     "output_type": "execute_result"
    }
   ],
   "source": [
    "df.shape\n",
    "df.columns"
   ]
  },
  {
   "cell_type": "code",
   "execution_count": 7,
   "metadata": {},
   "outputs": [
    {
     "data": {
      "text/html": [
       "<div>\n",
       "<style scoped>\n",
       "    .dataframe tbody tr th:only-of-type {\n",
       "        vertical-align: middle;\n",
       "    }\n",
       "\n",
       "    .dataframe tbody tr th {\n",
       "        vertical-align: top;\n",
       "    }\n",
       "\n",
       "    .dataframe thead th {\n",
       "        text-align: right;\n",
       "    }\n",
       "</style>\n",
       "<table border=\"1\" class=\"dataframe\">\n",
       "  <thead>\n",
       "    <tr style=\"text-align: right;\">\n",
       "      <th></th>\n",
       "      <th>Latitude</th>\n",
       "      <th>Longitude</th>\n",
       "    </tr>\n",
       "  </thead>\n",
       "  <tbody>\n",
       "    <tr>\n",
       "      <th>count</th>\n",
       "      <td>101276.000000</td>\n",
       "      <td>101276.000000</td>\n",
       "    </tr>\n",
       "    <tr>\n",
       "      <th>mean</th>\n",
       "      <td>39.084404</td>\n",
       "      <td>-77.114360</td>\n",
       "    </tr>\n",
       "    <tr>\n",
       "      <th>std</th>\n",
       "      <td>0.072776</td>\n",
       "      <td>0.099519</td>\n",
       "    </tr>\n",
       "    <tr>\n",
       "      <th>min</th>\n",
       "      <td>37.720000</td>\n",
       "      <td>-79.486000</td>\n",
       "    </tr>\n",
       "    <tr>\n",
       "      <th>25%</th>\n",
       "      <td>39.025901</td>\n",
       "      <td>-77.191810</td>\n",
       "    </tr>\n",
       "    <tr>\n",
       "      <th>50%</th>\n",
       "      <td>39.076073</td>\n",
       "      <td>-77.107618</td>\n",
       "    </tr>\n",
       "    <tr>\n",
       "      <th>75%</th>\n",
       "      <td>39.140797</td>\n",
       "      <td>-77.040599</td>\n",
       "    </tr>\n",
       "    <tr>\n",
       "      <th>max</th>\n",
       "      <td>39.990414</td>\n",
       "      <td>-75.527708</td>\n",
       "    </tr>\n",
       "  </tbody>\n",
       "</table>\n",
       "</div>"
      ],
      "text/plain": [
       "            Latitude      Longitude\n",
       "count  101276.000000  101276.000000\n",
       "mean       39.084404     -77.114360\n",
       "std         0.072776       0.099519\n",
       "min        37.720000     -79.486000\n",
       "25%        39.025901     -77.191810\n",
       "50%        39.076073     -77.107618\n",
       "75%        39.140797     -77.040599\n",
       "max        39.990414     -75.527708"
      ]
     },
     "execution_count": 7,
     "metadata": {},
     "output_type": "execute_result"
    }
   ],
   "source": [
    "df.head\n",
    "df.describe()"
   ]
  },
  {
   "cell_type": "code",
   "execution_count": 8,
   "metadata": {},
   "outputs": [],
   "source": [
    "df = df.dropna(axis=0)"
   ]
  },
  {
   "cell_type": "code",
   "execution_count": 9,
   "metadata": {},
   "outputs": [
    {
     "data": {
      "text/plain": [
       "(91, 20)"
      ]
     },
     "execution_count": 9,
     "metadata": {},
     "output_type": "execute_result"
    }
   ],
   "source": [
    "df.shape"
   ]
  },
  {
   "cell_type": "code",
   "execution_count": 14,
   "metadata": {},
   "outputs": [
    {
     "data": {
      "text/plain": [
       "Index(['Crash Date/Time', 'Hit/Run', 'Route Type', 'Lane Direction',\n",
       "       'Lane Type', 'Number of Lanes', 'Weather', 'Surface Condition', 'Light',\n",
       "       'Traffic Control', 'Driver Substance Abuse',\n",
       "       'Non-Motorist Substance Abuse', 'Collision Type',\n",
       "       'Related Non-Motorist', 'At Fault', 'First Harmful Event',\n",
       "       'Second Harmful Event', 'Latitude', 'Longitude', 'Location'],\n",
       "      dtype='object')"
      ]
     },
     "execution_count": 14,
     "metadata": {},
     "output_type": "execute_result"
    }
   ],
   "source": [
    "df.describe()\n",
    "df.columns"
   ]
  },
  {
   "cell_type": "code",
   "execution_count": 5,
   "metadata": {},
   "outputs": [
    {
     "ename": "NameError",
     "evalue": "name 'df' is not defined",
     "output_type": "error",
     "traceback": [
      "\u001b[0;31m---------------------------------------------------------------------------\u001b[0m",
      "\u001b[0;31mNameError\u001b[0m                                 Traceback (most recent call last)",
      "Cell \u001b[0;32mIn[5], line 4\u001b[0m\n\u001b[1;32m      1\u001b[0m \u001b[38;5;28;01mimport\u001b[39;00m \u001b[38;5;21;01mmatplotlib\u001b[39;00m\u001b[38;5;21;01m.\u001b[39;00m\u001b[38;5;21;01mpyplot\u001b[39;00m \u001b[38;5;28;01mas\u001b[39;00m \u001b[38;5;21;01mplt\u001b[39;00m\n\u001b[1;32m      3\u001b[0m \u001b[38;5;66;03m# Extract the year from the 'Crash Date/Time' column\u001b[39;00m\n\u001b[0;32m----> 4\u001b[0m df[\u001b[38;5;124m'\u001b[39m\u001b[38;5;124mYear\u001b[39m\u001b[38;5;124m'\u001b[39m] \u001b[38;5;241m=\u001b[39m pd\u001b[38;5;241m.\u001b[39mto_datetime(\u001b[43mdf\u001b[49m[\u001b[38;5;124m'\u001b[39m\u001b[38;5;124mCrash Date/Time\u001b[39m\u001b[38;5;124m'\u001b[39m])\u001b[38;5;241m.\u001b[39mdt\u001b[38;5;241m.\u001b[39myear\n\u001b[1;32m      6\u001b[0m \u001b[38;5;66;03m# Group the data by year and count the number of accidents\u001b[39;00m\n\u001b[1;32m      7\u001b[0m accidents_per_year \u001b[38;5;241m=\u001b[39m df\u001b[38;5;241m.\u001b[39mgroupby(\u001b[38;5;124m'\u001b[39m\u001b[38;5;124mYear\u001b[39m\u001b[38;5;124m'\u001b[39m)\u001b[38;5;241m.\u001b[39msize()\n",
      "\u001b[0;31mNameError\u001b[0m: name 'df' is not defined"
     ]
    }
   ],
   "source": [
    "import matplotlib.pyplot as plt\n",
    "\n",
    "df1 = df1.['Crash Date/time']\n",
    "# Extract the year from the 'Crash Date/Time' column\n",
    "df['Year'] = pd.to_datetime(df1).dt.year\n",
    "\n",
    "# Group the data by year and count the number of accidents\n",
    "accidents_per_year = df.groupby('Year').size()\n",
    "\n",
    "# Plot the graph\n",
    "accidents_per_year.plot(kind='bar', figsize=(10, 6))\n",
    "plt.xlabel('Year')\n",
    "plt.ylabel('Number of Accidents')\n",
    "plt.title('Accidents per Year')\n",
    "plt.show()"
   ]
  }
 ],
 "metadata": {
  "kernelspec": {
   "display_name": "Python 3 (ipykernel)",
   "language": "python",
   "name": "python3"
  },
  "language_info": {
   "codemirror_mode": {
    "name": "ipython",
    "version": 3
   },
   "file_extension": ".py",
   "mimetype": "text/x-python",
   "name": "python",
   "nbconvert_exporter": "python",
   "pygments_lexer": "ipython3",
   "version": "3.11.5"
  }
 },
 "nbformat": 4,
 "nbformat_minor": 4
}
